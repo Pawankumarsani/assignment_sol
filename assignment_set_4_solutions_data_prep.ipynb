{
 "cells": [
  {
   "cell_type": "markdown",
   "id": "a86ef73d-5b21-49ad-bcd0-1e9df7b28f01",
   "metadata": {
    "id": "a86ef73d-5b21-49ad-bcd0-1e9df7b28f01"
   },
   "source": [
    "# Assignment Set 4 Solutions - Data preparation and transformation"
   ]
  },
  {
   "cell_type": "code",
   "execution_count": 2,
   "id": "8decd9a3-473b-4a58-a97a-a02621a20525",
   "metadata": {
    "id": "8decd9a3-473b-4a58-a97a-a02621a20525"
   },
   "outputs": [],
   "source": [
    "import pandas as pd\n",
    "import numpy as np"
   ]
  },
  {
   "cell_type": "markdown",
   "id": "b2e18fd3-01fe-4a1f-937a-71ee6023f2d6",
   "metadata": {
    "id": "b2e18fd3-01fe-4a1f-937a-71ee6023f2d6",
    "tags": []
   },
   "source": [
    "### Q1. Get the last two rows of df whose row sum is greater than 100."
   ]
  },
  {
   "cell_type": "code",
   "execution_count": 7,
   "id": "a5ce5a0e-c104-422b-baca-929847867117",
   "metadata": {},
   "outputs": [],
   "source": [
    "# Input\n",
    "df = pd.DataFrame(np.random.randint(10, 40, 60).reshape(-1, 4))"
   ]
  },
  {
   "cell_type": "code",
   "execution_count": 8,
   "id": "47a1b868-d7da-4857-8125-0ef39e2ace88",
   "metadata": {
    "id": "47a1b868-d7da-4857-8125-0ef39e2ace88",
    "outputId": "cc5ad1a7-a3bd-494c-e4bb-fff87426c9ee"
   },
   "outputs": [
    {
     "data": {
      "text/html": [
       "<div>\n",
       "<style scoped>\n",
       "    .dataframe tbody tr th:only-of-type {\n",
       "        vertical-align: middle;\n",
       "    }\n",
       "\n",
       "    .dataframe tbody tr th {\n",
       "        vertical-align: top;\n",
       "    }\n",
       "\n",
       "    .dataframe thead th {\n",
       "        text-align: right;\n",
       "    }\n",
       "</style>\n",
       "<table border=\"1\" class=\"dataframe\">\n",
       "  <thead>\n",
       "    <tr style=\"text-align: right;\">\n",
       "      <th></th>\n",
       "      <th>0</th>\n",
       "      <th>1</th>\n",
       "      <th>2</th>\n",
       "      <th>3</th>\n",
       "    </tr>\n",
       "  </thead>\n",
       "  <tbody>\n",
       "    <tr>\n",
       "      <th>13</th>\n",
       "      <td>38</td>\n",
       "      <td>26</td>\n",
       "      <td>33</td>\n",
       "      <td>25</td>\n",
       "    </tr>\n",
       "    <tr>\n",
       "      <th>14</th>\n",
       "      <td>36</td>\n",
       "      <td>32</td>\n",
       "      <td>17</td>\n",
       "      <td>33</td>\n",
       "    </tr>\n",
       "  </tbody>\n",
       "</table>\n",
       "</div>"
      ],
      "text/plain": [
       "     0   1   2   3\n",
       "13  38  26  33  25\n",
       "14  36  32  17  33"
      ]
     },
     "execution_count": 8,
     "metadata": {},
     "output_type": "execute_result"
    }
   ],
   "source": [
    "# Solution\n",
    "\n",
    "# row sums\n",
    "rowsums = df.apply(np.sum, axis=1)\n",
    "\n",
    "# last two rows with row sum greater than 100\n",
    "last_two_rows = df.iloc[np.where(rowsums > 100)[0][-2:], :]\n",
    "last_two_rows"
   ]
  },
  {
   "cell_type": "markdown",
   "id": "6e493261-23aa-49c1-aca6-858825f1f80a",
   "metadata": {
    "id": "6e493261-23aa-49c1-aca6-858825f1f80a"
   },
   "source": [
    "### Q2. Scale the `Price` columns using z score scaling"
   ]
  },
  {
   "cell_type": "code",
   "execution_count": 12,
   "id": "530db975-612b-47e8-8e9e-b86dbb802f7e",
   "metadata": {
    "id": "530db975-612b-47e8-8e9e-b86dbb802f7e",
    "outputId": "f477e273-6dce-4bae-9310-5700de7f8554"
   },
   "outputs": [],
   "source": [
    "# Input\n",
    "df = pd.read_csv('https://raw.githubusercontent.com/selva86/datasets/master/Cars93_miss.csv')"
   ]
  },
  {
   "cell_type": "code",
   "execution_count": 13,
   "id": "f7f50c6a-0f5b-413f-bf38-5b4497879289",
   "metadata": {},
   "outputs": [
    {
     "data": {
      "text/plain": [
       "0    -0.384303\n",
       "1     1.476989\n",
       "2     0.980644\n",
       "3     1.869928\n",
       "4     1.073709\n",
       "        ...   \n",
       "88    0.008636\n",
       "89    0.039658\n",
       "90    0.380894\n",
       "91    0.318851\n",
       "92    0.732472\n",
       "Name: Price, Length: 93, dtype: float64"
      ]
     },
     "execution_count": 13,
     "metadata": {},
     "output_type": "execute_result"
    }
   ],
   "source": [
    "# Solution\n",
    "def z_score_scaling(x):\n",
    "    return (x - np.mean(x))/np.std(x)\n",
    "\n",
    "z_score_scaling(df['Price'])"
   ]
  },
  {
   "cell_type": "markdown",
   "id": "9a7b9823-5f51-45e4-b6b7-c2de702b9fcb",
   "metadata": {
    "id": "6e493261-23aa-49c1-aca6-858825f1f80a"
   },
   "source": [
    "### Q3. Scale all numerical columns using z score scaling"
   ]
  },
  {
   "cell_type": "code",
   "execution_count": 33,
   "id": "15b9f43f-ebcf-4044-9160-0d7645f6fe61",
   "metadata": {
    "id": "530db975-612b-47e8-8e9e-b86dbb802f7e",
    "outputId": "f477e273-6dce-4bae-9310-5700de7f8554"
   },
   "outputs": [],
   "source": [
    "# Input\n",
    "df = pd.read_csv('https://raw.githubusercontent.com/selva86/datasets/master/Cars93_miss.csv')"
   ]
  },
  {
   "cell_type": "code",
   "execution_count": 37,
   "id": "a07b2a95-4c77-47a2-ab99-177b07a59a62",
   "metadata": {},
   "outputs": [
    {
     "data": {
      "text/html": [
       "<div>\n",
       "<style scoped>\n",
       "    .dataframe tbody tr th:only-of-type {\n",
       "        vertical-align: middle;\n",
       "    }\n",
       "\n",
       "    .dataframe tbody tr th {\n",
       "        vertical-align: top;\n",
       "    }\n",
       "\n",
       "    .dataframe thead th {\n",
       "        text-align: right;\n",
       "    }\n",
       "</style>\n",
       "<table border=\"1\" class=\"dataframe\">\n",
       "  <thead>\n",
       "    <tr style=\"text-align: right;\">\n",
       "      <th></th>\n",
       "      <th>Min.Price</th>\n",
       "      <th>Price</th>\n",
       "      <th>Max.Price</th>\n",
       "      <th>MPG.city</th>\n",
       "      <th>MPG.highway</th>\n",
       "      <th>EngineSize</th>\n",
       "      <th>Horsepower</th>\n",
       "      <th>RPM</th>\n",
       "      <th>Rev.per.mile</th>\n",
       "      <th>Fuel.tank.capacity</th>\n",
       "      <th>Passengers</th>\n",
       "      <th>Length</th>\n",
       "      <th>Wheelbase</th>\n",
       "      <th>Width</th>\n",
       "      <th>Turn.circle</th>\n",
       "      <th>Rear.seat.room</th>\n",
       "      <th>Luggage.room</th>\n",
       "      <th>Weight</th>\n",
       "    </tr>\n",
       "  </thead>\n",
       "  <tbody>\n",
       "    <tr>\n",
       "      <th>0</th>\n",
       "      <td>-0.440973</td>\n",
       "      <td>-0.439152</td>\n",
       "      <td>-0.437392</td>\n",
       "      <td>-0.433629</td>\n",
       "      <td>-0.429986</td>\n",
       "      <td>-0.447711</td>\n",
       "      <td>-0.363822</td>\n",
       "      <td>3.375409</td>\n",
       "      <td>1.305478</td>\n",
       "      <td>-0.440791</td>\n",
       "      <td>-0.445769</td>\n",
       "      <td>-0.341362</td>\n",
       "      <td>-0.386888</td>\n",
       "      <td>-0.407527</td>\n",
       "      <td>-0.426344</td>\n",
       "      <td>-0.432718</td>\n",
       "      <td>NaN</td>\n",
       "      <td>1.193179</td>\n",
       "    </tr>\n",
       "    <tr>\n",
       "      <th>1</th>\n",
       "      <td>-0.435274</td>\n",
       "      <td>-0.432128</td>\n",
       "      <td>-0.428915</td>\n",
       "      <td>-0.442771</td>\n",
       "      <td>-0.438085</td>\n",
       "      <td>-0.452678</td>\n",
       "      <td>-0.320940</td>\n",
       "      <td>3.226882</td>\n",
       "      <td>1.108229</td>\n",
       "      <td>-0.442771</td>\n",
       "      <td>-0.451473</td>\n",
       "      <td>-0.324287</td>\n",
       "      <td>-0.377839</td>\n",
       "      <td>-0.407293</td>\n",
       "      <td>-0.429383</td>\n",
       "      <td>-0.434738</td>\n",
       "      <td>-0.444779</td>\n",
       "      <td>1.928245</td>\n",
       "    </tr>\n",
       "    <tr>\n",
       "      <th>2</th>\n",
       "      <td>-0.431822</td>\n",
       "      <td>-0.429650</td>\n",
       "      <td>-0.427477</td>\n",
       "      <td>-0.435829</td>\n",
       "      <td>-0.431755</td>\n",
       "      <td>-0.447508</td>\n",
       "      <td>-0.332615</td>\n",
       "      <td>3.285296</td>\n",
       "      <td>1.098796</td>\n",
       "      <td>-0.437934</td>\n",
       "      <td>-0.446014</td>\n",
       "      <td>-0.327183</td>\n",
       "      <td>-0.380148</td>\n",
       "      <td>-0.403914</td>\n",
       "      <td>-0.424285</td>\n",
       "      <td>-0.430397</td>\n",
       "      <td>-0.439903</td>\n",
       "      <td>1.842342</td>\n",
       "    </tr>\n",
       "    <tr>\n",
       "      <th>3</th>\n",
       "      <td>NaN</td>\n",
       "      <td>-0.481991</td>\n",
       "      <td>-0.477685</td>\n",
       "      <td>-0.493661</td>\n",
       "      <td>-0.489293</td>\n",
       "      <td>NaN</td>\n",
       "      <td>-0.398178</td>\n",
       "      <td>2.926903</td>\n",
       "      <td>1.076516</td>\n",
       "      <td>-0.492351</td>\n",
       "      <td>-0.501774</td>\n",
       "      <td>-0.385072</td>\n",
       "      <td>-0.439367</td>\n",
       "      <td>NaN</td>\n",
       "      <td>-0.482428</td>\n",
       "      <td>-0.486172</td>\n",
       "      <td>-0.494909</td>\n",
       "      <td>1.619462</td>\n",
       "    </tr>\n",
       "    <tr>\n",
       "      <th>4</th>\n",
       "      <td>NaN</td>\n",
       "      <td>-0.467557</td>\n",
       "      <td>NaN</td>\n",
       "      <td>-0.472476</td>\n",
       "      <td>-0.467557</td>\n",
       "      <td>-0.483852</td>\n",
       "      <td>-0.358110</td>\n",
       "      <td>3.018775</td>\n",
       "      <td>1.078849</td>\n",
       "      <td>-0.473030</td>\n",
       "      <td>-0.483544</td>\n",
       "      <td>-0.371637</td>\n",
       "      <td>-0.418982</td>\n",
       "      <td>-0.443577</td>\n",
       "      <td>-0.462024</td>\n",
       "      <td>-0.469402</td>\n",
       "      <td>-0.478010</td>\n",
       "      <td>1.752136</td>\n",
       "    </tr>\n",
       "    <tr>\n",
       "      <th>...</th>\n",
       "      <td>...</td>\n",
       "      <td>...</td>\n",
       "      <td>...</td>\n",
       "      <td>...</td>\n",
       "      <td>...</td>\n",
       "      <td>...</td>\n",
       "      <td>...</td>\n",
       "      <td>...</td>\n",
       "      <td>...</td>\n",
       "      <td>...</td>\n",
       "      <td>...</td>\n",
       "      <td>...</td>\n",
       "      <td>...</td>\n",
       "      <td>...</td>\n",
       "      <td>...</td>\n",
       "      <td>...</td>\n",
       "      <td>...</td>\n",
       "      <td>...</td>\n",
       "    </tr>\n",
       "    <tr>\n",
       "      <th>88</th>\n",
       "      <td>-0.476343</td>\n",
       "      <td>-0.474211</td>\n",
       "      <td>-0.472148</td>\n",
       "      <td>-0.476068</td>\n",
       "      <td>-0.473317</td>\n",
       "      <td>-0.486040</td>\n",
       "      <td>-0.412801</td>\n",
       "      <td>2.606850</td>\n",
       "      <td>1.516860</td>\n",
       "      <td>-0.473249</td>\n",
       "      <td>-0.482945</td>\n",
       "      <td>-0.359161</td>\n",
       "      <td>-0.408674</td>\n",
       "      <td>-0.438245</td>\n",
       "      <td>-0.461627</td>\n",
       "      <td>-0.464377</td>\n",
       "      <td>NaN</td>\n",
       "      <td>2.235497</td>\n",
       "    </tr>\n",
       "    <tr>\n",
       "      <th>89</th>\n",
       "      <td>-0.433198</td>\n",
       "      <td>-0.431619</td>\n",
       "      <td>-0.430040</td>\n",
       "      <td>-0.430961</td>\n",
       "      <td>-0.425041</td>\n",
       "      <td>-0.443459</td>\n",
       "      <td>-0.356631</td>\n",
       "      <td>3.370399</td>\n",
       "      <td>1.321388</td>\n",
       "      <td>-0.432606</td>\n",
       "      <td>-0.441486</td>\n",
       "      <td>-0.326373</td>\n",
       "      <td>-0.377023</td>\n",
       "      <td>-0.400703</td>\n",
       "      <td>-0.421752</td>\n",
       "      <td>-0.424054</td>\n",
       "      <td>-0.435566</td>\n",
       "      <td>1.518724</td>\n",
       "    </tr>\n",
       "    <tr>\n",
       "      <th>90</th>\n",
       "      <td>-0.422736</td>\n",
       "      <td>-0.422466</td>\n",
       "      <td>-0.422197</td>\n",
       "      <td>-0.426036</td>\n",
       "      <td>-0.421321</td>\n",
       "      <td>-0.436273</td>\n",
       "      <td>-0.318275</td>\n",
       "      <td>3.468161</td>\n",
       "      <td>1.168147</td>\n",
       "      <td>-0.425699</td>\n",
       "      <td>-0.435465</td>\n",
       "      <td>-0.331072</td>\n",
       "      <td>-0.372829</td>\n",
       "      <td>-0.393708</td>\n",
       "      <td>-0.413913</td>\n",
       "      <td>-0.420648</td>\n",
       "      <td>-0.428056</td>\n",
       "      <td>1.454386</td>\n",
       "    </tr>\n",
       "    <tr>\n",
       "      <th>91</th>\n",
       "      <td>-0.428568</td>\n",
       "      <td>-0.427932</td>\n",
       "      <td>-0.427366</td>\n",
       "      <td>-0.429134</td>\n",
       "      <td>-0.424182</td>\n",
       "      <td>-0.442365</td>\n",
       "      <td>-0.363335</td>\n",
       "      <td>3.376615</td>\n",
       "      <td>1.123164</td>\n",
       "      <td>-0.432814</td>\n",
       "      <td>-0.440455</td>\n",
       "      <td>-0.309564</td>\n",
       "      <td>-0.370410</td>\n",
       "      <td>-0.396589</td>\n",
       "      <td>-0.417814</td>\n",
       "      <td>-0.423121</td>\n",
       "      <td>-0.434087</td>\n",
       "      <td>1.667955</td>\n",
       "    </tr>\n",
       "    <tr>\n",
       "      <th>92</th>\n",
       "      <td>-0.362310</td>\n",
       "      <td>-0.361115</td>\n",
       "      <td>-0.359982</td>\n",
       "      <td>-0.365331</td>\n",
       "      <td>-0.360297</td>\n",
       "      <td>-0.376407</td>\n",
       "      <td>-0.272191</td>\n",
       "      <td>3.523903</td>\n",
       "      <td>NaN</td>\n",
       "      <td>-0.365772</td>\n",
       "      <td>-0.374771</td>\n",
       "      <td>-0.262122</td>\n",
       "      <td>-0.311838</td>\n",
       "      <td>-0.334494</td>\n",
       "      <td>-0.354003</td>\n",
       "      <td>-0.359038</td>\n",
       "      <td>-0.368478</td>\n",
       "      <td>1.664245</td>\n",
       "    </tr>\n",
       "  </tbody>\n",
       "</table>\n",
       "<p>93 rows × 18 columns</p>\n",
       "</div>"
      ],
      "text/plain": [
       "    Min.Price     Price  Max.Price  MPG.city  MPG.highway  EngineSize  \\\n",
       "0   -0.440973 -0.439152  -0.437392 -0.433629    -0.429986   -0.447711   \n",
       "1   -0.435274 -0.432128  -0.428915 -0.442771    -0.438085   -0.452678   \n",
       "2   -0.431822 -0.429650  -0.427477 -0.435829    -0.431755   -0.447508   \n",
       "3         NaN -0.481991  -0.477685 -0.493661    -0.489293         NaN   \n",
       "4         NaN -0.467557        NaN -0.472476    -0.467557   -0.483852   \n",
       "..        ...       ...        ...       ...          ...         ...   \n",
       "88  -0.476343 -0.474211  -0.472148 -0.476068    -0.473317   -0.486040   \n",
       "89  -0.433198 -0.431619  -0.430040 -0.430961    -0.425041   -0.443459   \n",
       "90  -0.422736 -0.422466  -0.422197 -0.426036    -0.421321   -0.436273   \n",
       "91  -0.428568 -0.427932  -0.427366 -0.429134    -0.424182   -0.442365   \n",
       "92  -0.362310 -0.361115  -0.359982 -0.365331    -0.360297   -0.376407   \n",
       "\n",
       "    Horsepower       RPM  Rev.per.mile  Fuel.tank.capacity  Passengers  \\\n",
       "0    -0.363822  3.375409      1.305478           -0.440791   -0.445769   \n",
       "1    -0.320940  3.226882      1.108229           -0.442771   -0.451473   \n",
       "2    -0.332615  3.285296      1.098796           -0.437934   -0.446014   \n",
       "3    -0.398178  2.926903      1.076516           -0.492351   -0.501774   \n",
       "4    -0.358110  3.018775      1.078849           -0.473030   -0.483544   \n",
       "..         ...       ...           ...                 ...         ...   \n",
       "88   -0.412801  2.606850      1.516860           -0.473249   -0.482945   \n",
       "89   -0.356631  3.370399      1.321388           -0.432606   -0.441486   \n",
       "90   -0.318275  3.468161      1.168147           -0.425699   -0.435465   \n",
       "91   -0.363335  3.376615      1.123164           -0.432814   -0.440455   \n",
       "92   -0.272191  3.523903           NaN           -0.365772   -0.374771   \n",
       "\n",
       "      Length  Wheelbase     Width  Turn.circle  Rear.seat.room  Luggage.room  \\\n",
       "0  -0.341362  -0.386888 -0.407527    -0.426344       -0.432718           NaN   \n",
       "1  -0.324287  -0.377839 -0.407293    -0.429383       -0.434738     -0.444779   \n",
       "2  -0.327183  -0.380148 -0.403914    -0.424285       -0.430397     -0.439903   \n",
       "3  -0.385072  -0.439367       NaN    -0.482428       -0.486172     -0.494909   \n",
       "4  -0.371637  -0.418982 -0.443577    -0.462024       -0.469402     -0.478010   \n",
       "..       ...        ...       ...          ...             ...           ...   \n",
       "88 -0.359161  -0.408674 -0.438245    -0.461627       -0.464377           NaN   \n",
       "89 -0.326373  -0.377023 -0.400703    -0.421752       -0.424054     -0.435566   \n",
       "90 -0.331072  -0.372829 -0.393708    -0.413913       -0.420648     -0.428056   \n",
       "91 -0.309564  -0.370410 -0.396589    -0.417814       -0.423121     -0.434087   \n",
       "92 -0.262122  -0.311838 -0.334494    -0.354003       -0.359038     -0.368478   \n",
       "\n",
       "      Weight  \n",
       "0   1.193179  \n",
       "1   1.928245  \n",
       "2   1.842342  \n",
       "3   1.619462  \n",
       "4   1.752136  \n",
       "..       ...  \n",
       "88  2.235497  \n",
       "89  1.518724  \n",
       "90  1.454386  \n",
       "91  1.667955  \n",
       "92  1.664245  \n",
       "\n",
       "[93 rows x 18 columns]"
      ]
     },
     "execution_count": 37,
     "metadata": {},
     "output_type": "execute_result"
    }
   ],
   "source": [
    "# Solution\n",
    "num_df = df.select_dtypes(include=np.number)\n",
    "\n",
    "def z_score_scaling(x):\n",
    "    return (x - np.mean(x))/np.std(x)\n",
    "\n",
    "num_df.apply(z_score_scaling, axis=\"columns\")"
   ]
  },
  {
   "cell_type": "markdown",
   "id": "ea78278f-f379-4486-9ab4-17af70dacce4",
   "metadata": {
    "id": "b2e18fd3-01fe-4a1f-937a-71ee6023f2d6",
    "tags": []
   },
   "source": [
    "### Q4. Convert the series ser into a dataframe with its index as another column on the dataframe."
   ]
  },
  {
   "cell_type": "code",
   "execution_count": 18,
   "id": "b49e034c-55c5-45b6-9b05-c271ec1f0481",
   "metadata": {},
   "outputs": [],
   "source": [
    "# Input\n",
    "mylist = list('abcedfghijklmnopqrstuvwxyz')\n",
    "myarr = np.arange(26)\n",
    "mydict = dict(zip(mylist, myarr))\n",
    "ser = pd.Series(mydict)"
   ]
  },
  {
   "cell_type": "code",
   "execution_count": 19,
   "id": "906df2ae-c322-4787-870b-bd93ff62d381",
   "metadata": {
    "id": "47a1b868-d7da-4857-8125-0ef39e2ace88",
    "outputId": "cc5ad1a7-a3bd-494c-e4bb-fff87426c9ee"
   },
   "outputs": [
    {
     "data": {
      "text/html": [
       "<div>\n",
       "<style scoped>\n",
       "    .dataframe tbody tr th:only-of-type {\n",
       "        vertical-align: middle;\n",
       "    }\n",
       "\n",
       "    .dataframe tbody tr th {\n",
       "        vertical-align: top;\n",
       "    }\n",
       "\n",
       "    .dataframe thead th {\n",
       "        text-align: right;\n",
       "    }\n",
       "</style>\n",
       "<table border=\"1\" class=\"dataframe\">\n",
       "  <thead>\n",
       "    <tr style=\"text-align: right;\">\n",
       "      <th></th>\n",
       "      <th>index</th>\n",
       "      <th>0</th>\n",
       "    </tr>\n",
       "  </thead>\n",
       "  <tbody>\n",
       "    <tr>\n",
       "      <th>0</th>\n",
       "      <td>a</td>\n",
       "      <td>0</td>\n",
       "    </tr>\n",
       "    <tr>\n",
       "      <th>1</th>\n",
       "      <td>b</td>\n",
       "      <td>1</td>\n",
       "    </tr>\n",
       "    <tr>\n",
       "      <th>2</th>\n",
       "      <td>c</td>\n",
       "      <td>2</td>\n",
       "    </tr>\n",
       "    <tr>\n",
       "      <th>3</th>\n",
       "      <td>e</td>\n",
       "      <td>3</td>\n",
       "    </tr>\n",
       "    <tr>\n",
       "      <th>4</th>\n",
       "      <td>d</td>\n",
       "      <td>4</td>\n",
       "    </tr>\n",
       "  </tbody>\n",
       "</table>\n",
       "</div>"
      ],
      "text/plain": [
       "  index  0\n",
       "0     a  0\n",
       "1     b  1\n",
       "2     c  2\n",
       "3     e  3\n",
       "4     d  4"
      ]
     },
     "execution_count": 19,
     "metadata": {},
     "output_type": "execute_result"
    }
   ],
   "source": [
    "# Solution\n",
    "df = ser.to_frame().reset_index()\n",
    "df.head()"
   ]
  },
  {
   "cell_type": "markdown",
   "id": "39991bb4-e5e2-42ad-a9db-68b695f15ec1",
   "metadata": {
    "id": "b2e18fd3-01fe-4a1f-937a-71ee6023f2d6",
    "tags": []
   },
   "source": [
    "### Q5. Bin the `Price` column into 3 equal sized bins, so you know the classification of whether the price of the car is 'low' / 'medium' / 'high'."
   ]
  },
  {
   "cell_type": "code",
   "execution_count": 31,
   "id": "3f304982-a5ab-4655-ad29-36f108631080",
   "metadata": {},
   "outputs": [],
   "source": [
    "# Input\n",
    "df = pd.read_csv('https://raw.githubusercontent.com/selva86/datasets/master/Cars93_miss.csv')"
   ]
  },
  {
   "cell_type": "code",
   "execution_count": 32,
   "id": "8d604bb0-152f-4205-81d6-14aa72d17494",
   "metadata": {
    "id": "47a1b868-d7da-4857-8125-0ef39e2ace88",
    "outputId": "cc5ad1a7-a3bd-494c-e4bb-fff87426c9ee"
   },
   "outputs": [
    {
     "data": {
      "text/plain": [
       "0    MEDIUM\n",
       "1      HIGH\n",
       "2      HIGH\n",
       "3      HIGH\n",
       "4      HIGH\n",
       "Name: Price, dtype: category\n",
       "Categories (3, object): ['LOW' < 'MEDIUM' < 'HIGH']"
      ]
     },
     "execution_count": 32,
     "metadata": {},
     "output_type": "execute_result"
    }
   ],
   "source": [
    "# Solution\n",
    "pd.qcut(df['Price'], q=3, labels=['LOW', 'MEDIUM', 'HIGH']).head()"
   ]
  }
 ],
 "metadata": {
  "colab": {
   "collapsed_sections": [],
   "name": "assignment_set_1_solutions.ipynb",
   "provenance": []
  },
  "kernelspec": {
   "display_name": "Python 3",
   "language": "python",
   "name": "python3"
  },
  "language_info": {
   "codemirror_mode": {
    "name": "ipython",
    "version": 3
   },
   "file_extension": ".py",
   "mimetype": "text/x-python",
   "name": "python",
   "nbconvert_exporter": "python",
   "pygments_lexer": "ipython3",
   "version": "3.8.8"
  }
 },
 "nbformat": 4,
 "nbformat_minor": 5
}
